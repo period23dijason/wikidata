{
 "cells": [
  {
   "cell_type": "code",
   "execution_count": 1,
   "metadata": {},
   "outputs": [
    {
     "name": "stderr",
     "output_type": "stream",
     "text": [
      "C:\\Users\\Matthew\\Anaconda3\\lib\\site-packages\\statsmodels\\compat\\pandas.py:56: FutureWarning: The pandas.core.datetools module is deprecated and will be removed in a future version. Please use the pandas.tseries module instead.\n",
      "  from pandas.core import datetools\n"
     ]
    }
   ],
   "source": [
    "from pykalman import KalmanFilter\n",
    "import numpy as np\n",
    "import pandas as pd\n",
    "import sys\n",
    "import matplotlib\n",
    "import matplotlib.pyplot as plt\n",
    "from skimage.color import lab2rgb\n",
    "from sklearn.model_selection import train_test_split\n",
    "from sklearn.naive_bayes import GaussianNB\n",
    "import skimage\n",
    "from sklearn.pipeline import make_pipeline\n",
    "from sklearn.preprocessing import FunctionTransformer\n",
    "from sklearn.neighbors import KNeighborsClassifier\n",
    "from sklearn.svm import SVC\n",
    "from functools import reduce\n",
    "import statsmodels.api as sm\n",
    "lowess = sm.nonparametric.lowess\n",
    "from scipy import stats"
   ]
  },
  {
   "cell_type": "code",
   "execution_count": 2,
   "metadata": {},
   "outputs": [],
   "source": [
    "def to_timestamp(dateTime):\n",
    "    return dateTime.timestamp()\n",
    "\n",
    "def map_genre(row):\n",
    "    result = []\n",
    "    for genre_code in row:\n",
    "        matches = genres[genres['wikidata_id'] == genre_code]['genre_label'].values\n",
    "        for match in matches:\n",
    "            result.append(match)\n",
    "    return result"
   ]
  },
  {
   "cell_type": "code",
   "execution_count": 3,
   "metadata": {},
   "outputs": [],
   "source": [
    "wikidata = pd.read_json('movies/data/wikidata-movies.json.gz', orient='record', lines=True, encoding=\"utf8\", convert_dates=['publication_date'])\n",
    "#wikidata = pd.read_json('movies/data/wikidata-movies.json.gz', orient='record', lines=True, encoding=\"utf8\")\n",
    "genres = pd.read_json('movies/data/genres.json.gz', orient='record', lines=True, encoding=\"utf8\")"
   ]
  },
  {
   "cell_type": "code",
   "execution_count": 4,
   "metadata": {
    "scrolled": false
   },
   "outputs": [],
   "source": [
    "wikidata = wikidata[wikidata['made_profit'].notnull()].reset_index(drop=True)"
   ]
  },
  {
   "cell_type": "code",
   "execution_count": 5,
   "metadata": {},
   "outputs": [],
   "source": [
    "#movies = movies.copy() #from https://stackoverflow.com/questions/31468176/setting-values-on-a-copy-of-a-slice-from-a-dataframe?rq=1\n",
    "#movies['genre_names'] = movies.apply(map_genre,axis=1)\n",
    "wikidata['genre_names'] = wikidata['genre'].apply(map_genre)\n",
    "wikidata['publication_timestamp'] = wikidata['publication_date'].apply(to_timestamp)"
   ]
  },
  {
   "cell_type": "code",
   "execution_count": 6,
   "metadata": {},
   "outputs": [],
   "source": [
    "rotten_tomatoes = pd.read_json('movies/data/rotten-tomatoes.json.gz', orient='record', lines=True)"
   ]
  },
  {
   "cell_type": "code",
   "execution_count": null,
   "metadata": {},
   "outputs": [
    {
     "data": {
      "text/plain": [
       "Index(['audience_average', 'audience_percent', 'audience_ratings',\n",
       "       'critic_average', 'critic_percent', 'imdb_id', 'rotten_tomatoes_id'],\n",
       "      dtype='object')"
      ]
     },
     "execution_count": 7,
     "metadata": {},
     "output_type": "execute_result"
    }
   ],
   "source": [
    "#rotten_tomatoes\n",
    "rotten_tomatoes.columns"
   ]
  },
  {
   "cell_type": "code",
   "execution_count": null,
   "metadata": {},
   "outputs": [],
   "source": [
    "omdb = pd.read_json('movies/data/omdb-data.json.gz', orient='record', lines=True)"
   ]
  },
  {
   "cell_type": "code",
   "execution_count": null,
   "metadata": {},
   "outputs": [],
   "source": [
    "#omdb"
   ]
  },
  {
   "cell_type": "code",
   "execution_count": null,
   "metadata": {},
   "outputs": [],
   "source": [
    "combined = wikidata.join(rotten_tomatoes.set_index('rotten_tomatoes_id'), on='rotten_tomatoes_id', rsuffix='_rt')"
   ]
  },
  {
   "cell_type": "code",
   "execution_count": null,
   "metadata": {},
   "outputs": [],
   "source": [
    "combined = combined.join(omdb.set_index('imdb_id'), on='imdb_id')"
   ]
  },
  {
   "cell_type": "code",
   "execution_count": null,
   "metadata": {},
   "outputs": [],
   "source": [
    "combined"
   ]
  },
  {
   "cell_type": "code",
   "execution_count": null,
   "metadata": {},
   "outputs": [],
   "source": [
    "plt.title('Popularity Distribution')\n",
    "plt.xlabel('Rank')\n",
    "plt.ylabel('Views')\n",
    "plt.scatter(combined['critic_average'], combined['audience_average'] * 2)\n",
    "plt.show()"
   ]
  },
  {
   "cell_type": "code",
   "execution_count": null,
   "metadata": {},
   "outputs": [],
   "source": [
    "test3 = combined[combined['audience_average'].notnull() & combined['critic_average'].notnull()]\n",
    "print(stats.normaltest(test3['audience_average']).pvalue) #<0.05, therefore not normal\n",
    "print(stats.mannwhitneyu(test3['critic_average'], test3['audience_average'] * 2).pvalue) #>0.05, therefore one distribution is higher than the other"
   ]
  },
  {
   "cell_type": "code",
   "execution_count": null,
   "metadata": {},
   "outputs": [],
   "source": [
    "chi2, p, dof, expected = stats.chi2_contingency([test3['critic_average'].values, test3['audience_average'].values])\n",
    "print(p) #>0.05, therefore one has no effect on the other?\n",
    "print(expected)"
   ]
  },
  {
   "cell_type": "code",
   "execution_count": null,
   "metadata": {},
   "outputs": [],
   "source": [
    "# chi2, p, dof, expected = stats.chi2_contingency([test3['critic_average'].values, test3['genre'].values])\n",
    "# print(p) #>0.05, therefore one has no effect on the other?\n",
    "# print(expected)"
   ]
  },
  {
   "cell_type": "code",
   "execution_count": null,
   "metadata": {},
   "outputs": [],
   "source": [
    "#combined.groupby('genre_names')\n",
    "#pd.value_counts(combined.groupby('genre_names'), sort=False)\n",
    "## TODO: Count distrbution of genres and graph on histogram"
   ]
  },
  {
   "cell_type": "markdown",
   "metadata": {},
   "source": [
    "# Have average ratings changed over time?"
   ]
  },
  {
   "cell_type": "code",
   "execution_count": null,
   "metadata": {},
   "outputs": [],
   "source": [
    "critic_average_test = combined[['publication_date','publication_timestamp','critic_average']].dropna()\n",
    "fit = stats.linregress(critic_average_test['publication_timestamp'], critic_average_test['critic_average'])\n",
    "critic_average_test['prediction'] = critic_average_test['publication_timestamp']*fit.slope + fit.intercept\n",
    "print(fit.pvalue) #p < 0.05, therefore we can conclude that critic ratings are decreasing."
   ]
  },
  {
   "cell_type": "code",
   "execution_count": null,
   "metadata": {},
   "outputs": [],
   "source": [
    "plt.plot(critic_average_test['publication_date'], critic_average_test['critic_average'], 'b.', alpha=0.5)\n",
    "plt.plot(critic_average_test['publication_date'], critic_average_test['prediction'], 'r-', linewidth=3)\n",
    "plt.show()"
   ]
  },
  {
   "cell_type": "code",
   "execution_count": null,
   "metadata": {},
   "outputs": [],
   "source": [
    "plt.hist(np.subtract(critic_average_test['critic_average'],critic_average_test['prediction']))\n",
    "plt.show()\n",
    "#This is close enough to being normal.\n",
    "#We expect a greater decline on the high end because the average critic rating is higher than the middle rating, 5."
   ]
  },
  {
   "cell_type": "code",
   "execution_count": null,
   "metadata": {},
   "outputs": [],
   "source": [
    "audience_average_test = combined[['publication_date','publication_timestamp','audience_average']].dropna()\n",
    "fit = stats.linregress(audience_average_test['publication_timestamp'], audience_average_test['audience_average'])\n",
    "audience_average_test['prediction'] = audience_average_test['publication_timestamp']*fit.slope + fit.intercept\n",
    "print(fit.pvalue) #p > 0.05, therefore we cannot conclude that the audience ratings are changing."
   ]
  },
  {
   "cell_type": "code",
   "execution_count": null,
   "metadata": {},
   "outputs": [],
   "source": [
    "plt.plot(audience_average_test['publication_date'], audience_average_test['audience_average'], 'b.', alpha=0.5)\n",
    "plt.plot(audience_average_test['publication_date'], audience_average_test['prediction'], 'r-', linewidth=3)\n",
    "plt.show()"
   ]
  },
  {
   "cell_type": "code",
   "execution_count": null,
   "metadata": {},
   "outputs": [],
   "source": [
    "plt.hist(np.subtract(audience_average_test['audience_average'],audience_average_test['prediction']))\n",
    "plt.show()\n",
    "#This is close enough to being normal.\n",
    "#We expect a greater decline on the high end because the average audience rating is higher than the middle rating, 5."
   ]
  },
  {
   "cell_type": "markdown",
   "metadata": {},
   "source": [
    "# Do average audience ratings change based on its popularity?"
   ]
  },
  {
   "cell_type": "code",
   "execution_count": null,
   "metadata": {},
   "outputs": [],
   "source": [
    "audience_ratings_test = combined[['publication_date','publication_timestamp','audience_average','audience_ratings']].dropna()\n",
    "#Removing movies with n >= 10000000 ratings as they seem like outliers\n",
    "audience_ratings_test = audience_ratings_test[audience_ratings_test['audience_ratings'] < 10000000]\n",
    "fit = stats.linregress(audience_ratings_test['audience_ratings'], audience_ratings_test['audience_average'])\n",
    "audience_ratings_test['prediction'] = audience_ratings_test['audience_ratings']*fit.slope + fit.intercept\n",
    "print(fit.pvalue) #p < 0.05, therefore we can conclude that higher averages correlate with more popular movies."
   ]
  },
  {
   "cell_type": "code",
   "execution_count": null,
   "metadata": {},
   "outputs": [],
   "source": [
    "plt.plot(audience_ratings_test['audience_ratings'], audience_ratings_test['audience_average'], 'b.', alpha=0.5)\n",
    "plt.plot(audience_ratings_test['audience_ratings'], audience_ratings_test['prediction'], 'r-', linewidth=3)\n",
    "plt.show()"
   ]
  },
  {
   "cell_type": "code",
   "execution_count": null,
   "metadata": {},
   "outputs": [],
   "source": [
    "plt.hist(np.subtract(audience_ratings_test['audience_average'],audience_ratings_test['prediction']))\n",
    "plt.show()\n",
    "#This is close enough to being normal.\n",
    "#We expect a greater decline on the high end because the average audience rating is higher than the middle rating, 5."
   ]
  },
  {
   "cell_type": "code",
   "execution_count": null,
   "metadata": {},
   "outputs": [],
   "source": []
  }
 ],
 "metadata": {
  "kernelspec": {
   "display_name": "Python 3",
   "language": "python",
   "name": "python3"
  },
  "language_info": {
   "codemirror_mode": {
    "name": "ipython",
    "version": 3
   },
   "file_extension": ".py",
   "mimetype": "text/x-python",
   "name": "python",
   "nbconvert_exporter": "python",
   "pygments_lexer": "ipython3",
   "version": "3.6.4"
  }
 },
 "nbformat": 4,
 "nbformat_minor": 2
}
